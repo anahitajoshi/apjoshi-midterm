{
  "cells": [
    {
      "cell_type": "markdown",
      "metadata": {
        "id": "HuzbK_9AI9-b"
      },
      "source": [
        "# Libraries"
      ]
    },
    {
      "cell_type": "code",
      "execution_count": 4,
      "metadata": {
        "id": "Wm8GMvlPI9-c"
      },
      "outputs": [],
      "source": [
        "import pandas as pd\n",
        "import numpy as np\n",
        "import seaborn as sns\n",
        "import matplotlib.pyplot as plt\n",
        "from sklearn.feature_extraction.text import TfidfVectorizer\n",
        "from sklearn.model_selection import train_test_split\n",
        "from sklearn.metrics import accuracy_score, confusion_matrix\n",
        "from sklearn.ensemble import RandomForestClassifier\n",
        "from sklearn.decomposition import TruncatedSVD\n",
        "from scipy.sparse import hstack, csr_matrix"
      ]
    },
    {
      "cell_type": "markdown",
      "metadata": {
        "id": "LVxv9jx-I9-d"
      },
      "source": [
        "# Loading the Files\n",
        "\n",
        "Download the csv files into the `data/` directory."
      ]
    },
    {
      "cell_type": "code",
      "execution_count": 5,
      "metadata": {
        "colab": {
          "base_uri": "https://localhost:8080/",
          "height": 1000
        },
        "id": "yVnUKRv_I9-e",
        "outputId": "99be037f-6559-4de8-b1b3-7a07151c4fa2"
      },
      "outputs": [
        {
          "name": "stdout",
          "output_type": "stream",
          "text": [
            "Train shape: (1697533, 9)\n",
            "Test shape: (212192, 2)\n",
            "First few rows of training data:\n",
            "        Id   ProductId          UserId  HelpfulnessNumerator  \\\n",
            "0   914403  B0009W5KHM   AV6QDP8Q0ONK4                     2   \n",
            "1   354887  6303079709  A2I8RXJN80A2D2                     0   \n",
            "2  1407653  B004H0M2XC  A3FHV3RV8Z12E6                     0   \n",
            "3  1377458  B003ZJ9536  A12VLTA3ZHVPUY                     1   \n",
            "4   475323  630574453X  A13NM1PES9OXVN                     2   \n",
            "\n",
            "   HelpfulnessDenominator        Time  \\\n",
            "0                       2  1341014400   \n",
            "1                       0  1168819200   \n",
            "2                       0  1386201600   \n",
            "3                       1  1348704000   \n",
            "4                       3   970012800   \n",
            "\n",
            "                                         Summary  \\\n",
            "0                                  GOOD FUN FILM   \n",
            "1                                   Movie Review   \n",
            "2             When is it a good time to Consent?   \n",
            "3                                          TRUTH   \n",
            "4  Intelligent and bittersweet -- stays with you   \n",
            "\n",
            "                                                Text  Score  \n",
            "0  While most straight to DVD films are not worth...    5.0  \n",
            "1  I have wanted this one for sometime, also.  I ...    5.0  \n",
            "2  Actually this was a pretty darn good indie fil...    4.0  \n",
            "3  Episodes 37 to 72 of the series press on in a ...    5.0  \n",
            "4  I was really impressed with this movie, but wa...    3.0  \n",
            "Missing values in training data:\n",
            "Id                             0\n",
            "ProductId                      0\n",
            "UserId                         0\n",
            "HelpfulnessNumerator           0\n",
            "HelpfulnessDenominator         0\n",
            "Time                           0\n",
            "Summary                       32\n",
            "Text                          62\n",
            "Score                     212192\n",
            "dtype: int64\n",
            "train.csv shape is  (1697533, 9)\n",
            "test.csv shape is  (212192, 2)\n",
            "\n",
            "        Id   ProductId          UserId  HelpfulnessNumerator  \\\n",
            "0   914403  B0009W5KHM   AV6QDP8Q0ONK4                     2   \n",
            "1   354887  6303079709  A2I8RXJN80A2D2                     0   \n",
            "2  1407653  B004H0M2XC  A3FHV3RV8Z12E6                     0   \n",
            "3  1377458  B003ZJ9536  A12VLTA3ZHVPUY                     1   \n",
            "4   475323  630574453X  A13NM1PES9OXVN                     2   \n",
            "\n",
            "   HelpfulnessDenominator        Time  \\\n",
            "0                       2  1341014400   \n",
            "1                       0  1168819200   \n",
            "2                       0  1386201600   \n",
            "3                       1  1348704000   \n",
            "4                       3   970012800   \n",
            "\n",
            "                                         Summary  \\\n",
            "0                                  GOOD FUN FILM   \n",
            "1                                   Movie Review   \n",
            "2             When is it a good time to Consent?   \n",
            "3                                          TRUTH   \n",
            "4  Intelligent and bittersweet -- stays with you   \n",
            "\n",
            "                                                Text  Score  \n",
            "0  While most straight to DVD films are not worth...    5.0  \n",
            "1  I have wanted this one for sometime, also.  I ...    5.0  \n",
            "2  Actually this was a pretty darn good indie fil...    4.0  \n",
            "3  Episodes 37 to 72 of the series press on in a ...    5.0  \n",
            "4  I was really impressed with this movie, but wa...    3.0  \n",
            "\n",
            "        Id  Score\n",
            "0  1323432    NaN\n",
            "1  1137299    NaN\n",
            "2  1459366    NaN\n",
            "3   931601    NaN\n",
            "4  1311995    NaN\n",
            "\n",
            "                 Id  HelpfulnessNumerator  HelpfulnessDenominator  \\\n",
            "count  1.697533e+06          1.697533e+06            1.697533e+06   \n",
            "mean   8.487660e+05          3.569048e+00            5.301422e+00   \n",
            "std    4.900357e+05          1.727883e+01            2.024445e+01   \n",
            "min    0.000000e+00          0.000000e+00            0.000000e+00   \n",
            "25%    4.243830e+05          0.000000e+00            0.000000e+00   \n",
            "50%    8.487660e+05          1.000000e+00            1.000000e+00   \n",
            "75%    1.273149e+06          3.000000e+00            5.000000e+00   \n",
            "max    1.697532e+06          6.084000e+03            6.510000e+03   \n",
            "\n",
            "               Time         Score  \n",
            "count  1.697533e+06  1.485341e+06  \n",
            "mean   1.262422e+09  4.110517e+00  \n",
            "std    1.289277e+08  1.197651e+00  \n",
            "min    8.793792e+08  1.000000e+00  \n",
            "25%    1.164413e+09  4.000000e+00  \n",
            "50%    1.307491e+09  5.000000e+00  \n",
            "75%    1.373242e+09  5.000000e+00  \n",
            "max    1.406074e+09  5.000000e+00  \n"
          ]
        },
        {
          "data": {
            "image/png": "[encoded data removed]",
            "text/plain": [
              "<Figure size 640x480 with 1 Axes>"
            ]
          },
          "metadata": {},
          "output_type": "display_data"
        },
        {
          "name": "stdout",
          "output_type": "stream",
          "text": [
            "\n",
            "EVERYTHING IS PROPERLY SET UP! YOU ARE READY TO START\n"
          ]
        }
      ],
      "source": [
        "trainingSet = pd.read_csv('/users/anajoshi/Downloads/train.csv')\n",
        "testingSet = pd.read_csv('/users/anajoshi/Downloads/test.csv')\n",
        "\n",
        "print(\"Train shape:\", trainingSet.shape)\n",
        "print(\"Test shape:\", testingSet.shape)\n",
        "\n",
        "# Display the first few rows of the training data\n",
        "print(\"First few rows of training data:\")\n",
        "print(trainingSet.head())\n",
        "\n",
        "# Check for missing values in the training data\n",
        "print(\"Missing values in training data:\")\n",
        "print(trainingSet.isnull().sum())\n",
        "\n",
        "print(\"train.csv shape is \", trainingSet.shape)\n",
        "print(\"test.csv shape is \", testingSet.shape)\n",
        "\n",
        "print()\n",
        "\n",
        "print(trainingSet.head())\n",
        "print()\n",
        "print(testingSet.head())\n",
        "\n",
        "print()\n",
        "\n",
        "print(trainingSet.describe())\n",
        "\n",
        "trainingSet['Score'].value_counts().plot(kind='bar', legend=True, alpha=.5)\n",
        "plt.show()\n",
        "\n",
        "print()\n",
        "print(\"EVERYTHING IS PROPERLY SET UP! YOU ARE READY TO START\")\n"
      ]
    },
    {
      "cell_type": "markdown",
      "metadata": {
        "id": "twBgHqZfI9-e"
      },
      "source": [
        "# Adding Features"
      ]
    },
    {
      "cell_type": "code",
      "execution_count": 6,
      "metadata": {
        "id": "0SDgxFQmI9-e"
      },
      "outputs": [],
      "source": [
        "def add_features_to(df):\n",
        "    df['HelpfulnessDenominator'] = df['HelpfulnessDenominator'].replace(0, np.nan)\n",
        "    df['Helpfulness'] = df['HelpfulnessNumerator'] / df['HelpfulnessDenominator']\n",
        "    df['Helpfulness'] = df['Helpfulness'].fillna(0)\n",
        "\n",
        "    df['Time'] = pd.to_datetime(df['Time'], unit='s')\n",
        "    df['Review_Year'] = df['Time'].dt.year\n",
        "    df['Review_Month'] = df['Time'].dt.month\n",
        "    df['Review_Day'] = df['Time'].dt.day\n",
        "\n",
        "    df['Summary'] = df['Summary'].fillna('')\n",
        "    df['Text'] = df['Text'].fillna('')\n",
        "\n",
        "    df['Summary_length'] = df['Summary'].apply(len)\n",
        "    df['Text_length'] = df['Text'].apply(len)\n",
        "\n",
        "    df['Summary_word_count'] = df['Summary'].apply(lambda x: len(x.split()))\n",
        "    df['Text_word_count'] = df['Text'].apply(lambda x: len(x.split()))\n",
        "\n",
        "    return df\n",
        "\n",
        "trainingSet = add_features_to(trainingSet)\n"
      ]
    },
    {
      "cell_type": "markdown",
      "metadata": {
        "id": "zptr12ZHI9-f"
      },
      "source": [
        "# Data preparation"
      ]
    },
    {
      "cell_type": "code",
      "execution_count": 7,
      "metadata": {
        "id": "DGDA5qEDI9-g",
        "outputId": "029700ac-5a76-475b-a055-c41103175cb4"
      },
      "outputs": [],
      "source": [
        "train_data = trainingSet[trainingSet['Score'].notnull()].copy()\n",
        "\n",
        "test_data = pd.merge(testingSet[['Id']], trainingSet.drop(columns=['Score']), on='Id', how='left')\n",
        "\n",
        "missing_ids = set(testingSet['Id']) - set(test_data['Id'])\n",
        "\n",
        "train_data['Combined_Text'] = train_data['Summary'] + ' ' + train_data['Text']\n",
        "test_data['Combined_Text'] = test_data['Summary'] + ' ' + test_data['Text']\n"
      ]
    },
    {
      "cell_type": "markdown",
      "metadata": {
        "id": "cK-zxj03I9-g"
      },
      "source": [
        "# Text Vectorization"
      ]
    },
    {
      "cell_type": "code",
      "execution_count": 8,
      "metadata": {
        "id": "2OqjH2iTI9-g"
      },
      "outputs": [],
      "source": [
        "combined_data = pd.concat([train_data['Combined_Text'], test_data['Combined_Text']], axis=0)\n",
        "\n",
        "tfidf_vectorizer = TfidfVectorizer(max_features=5000, ngram_range=(1, 2))\n",
        "\n",
        "tfidf_combined_text = tfidf_vectorizer.fit_transform(combined_data)\n",
        "\n",
        "tfidf_train = tfidf_combined_text[:len(train_data)]\n",
        "tfidf_test = tfidf_combined_text[len(train_data):]"
      ]
    },
    {
      "cell_type": "markdown",
      "metadata": {
        "id": "9lN_rlKbI9-g"
      },
      "source": [
        "#  Numerical Features"
      ]
    },
    {
      "cell_type": "code",
      "execution_count": 9,
      "metadata": {
        "id": "tqd1Wi7-I9-g"
      },
      "outputs": [],
      "source": [
        "numeric_features = [\n",
        "    'HelpfulnessNumerator', 'HelpfulnessDenominator', 'Helpfulness',\n",
        "    'Summary_length', 'Text_length', 'Summary_word_count', 'Text_word_count',\n",
        "    'Review_Year', 'Review_Month', 'Review_Day'\n",
        "]\n",
        "\n",
        "X_train_numeric = train_data[numeric_features].fillna(0)\n",
        "X_test_numeric = test_data[numeric_features].fillna(0)"
      ]
    },
    {
      "cell_type": "markdown",
      "metadata": {
        "id": "nhYvVfxo_2Sa"
      },
      "source": [
        "# Combining Features\n"
      ]
    },
    {
      "cell_type": "code",
      "execution_count": 10,
      "metadata": {
        "id": "BoCuWwk8_2Sa"
      },
      "outputs": [],
      "source": [
        "X_train_num_sparse = csr_matrix(X_train_numeric.values)\n",
        "X_test_num_sparse = csr_matrix(X_test_numeric.values)\n",
        "\n",
        "X_train_combined = hstack([tfidf_train, X_train_num_sparse])\n",
        "X_test_combined = hstack([tfidf_test, X_test_num_sparse])\n",
        "\n",
        "y_train = train_data['Score']"
      ]
    },
    {
      "cell_type": "markdown",
      "metadata": {
        "id": "60jAS0aW_2Sa"
      },
      "source": [
        "# Model Building and Evaluation"
      ]
    },
    {
      "cell_type": "code",
      "execution_count": 11,
      "metadata": {
        "id": "cFrQnqDP_2Sa",
        "outputId": "b477a5c3-8ea3-43c0-da07-1b40fa0c521d"
      },
      "outputs": [
        {
          "name": "stdout",
          "output_type": "stream",
          "text": [
            "Random Forest Classifier Accuracy: 0.5892237757718077\n"
          ]
        }
      ],
      "source": [
        "X_train_part, X_valid, y_train_part, y_valid = train_test_split(\n",
        "    X_train_combined, y_train, test_size=0.25, random_state=42)\n",
        "\n",
        "svd = TruncatedSVD(n_components=100)\n",
        "X_train_reduced = svd.fit_transform(X_train_combined)\n",
        "X_train_part_reduced = svd.transform(X_train_part)\n",
        "X_valid_reduced = svd.transform(X_valid)\n",
        "\n",
        "rf_classifier = RandomForestClassifier(n_estimators=50, random_state=42, n_jobs=-1)\n",
        "rf_classifier.fit(X_train_part_reduced, y_train_part)\n",
        "\n",
        "# Predict and evaluate Random Forest Classifier\n",
        "y_pred_rf = rf_classifier.predict(X_valid_reduced)\n",
        "accuracy_rf = accuracy_score(y_valid, y_pred_rf)\n",
        "print(\"Random Forest Classifier Accuracy:\", accuracy_rf)"
      ]
    },
    {
      "cell_type": "markdown",
      "metadata": {
        "id": "lGFdVTwI_2Sa"
      },
      "source": [
        "# Select model (not needed anymore)"
      ]
    },
    {
      "cell_type": "code",
      "execution_count": 12,
      "metadata": {
        "id": "K0WutvU5_2Sa",
        "outputId": "5f013f8c-1918-486e-c23c-88b532110e42"
      },
      "outputs": [
        {
          "name": "stdout",
          "output_type": "stream",
          "text": [
            "\n",
            "Model Accuracies:\n",
            "Random Forest Classifier Accuracy: 0.5892237757718077\n",
            "\n",
            "Best model based on validation accuracy: Random Forest Classifier\n"
          ]
        }
      ],
      "source": [
        "print(\"\\nModel Accuracies:\")\n",
        "print(f\"Random Forest Classifier Accuracy: {accuracy_rf}\")\n",
        "\n",
        "accuracies = {\n",
        "    'Random Forest Classifier': accuracy_rf\n",
        "}\n",
        "\n",
        "best_model_name = max(accuracies, key=accuracies.get)\n",
        "print(f\"\\nBest model based on validation accuracy: {best_model_name}\")"
      ]
    },
    {
      "cell_type": "markdown",
      "metadata": {
        "id": "mXbqQB5V_2Sa"
      },
      "source": [
        "# Model on full data"
      ]
    },
    {
      "cell_type": "code",
      "execution_count": 13,
      "metadata": {
        "id": "B858mQzm_2Sb",
        "outputId": "0f85e948-3013-42fe-c59a-d06734af892c"
      },
      "outputs": [
        {
          "name": "stdout",
          "output_type": "stream",
          "text": [
            "\n",
            "Submission file created successfully!\n"
          ]
        }
      ],
      "source": [
        "X_train_reduced_full = svd.fit_transform(X_train_combined)\n",
        "X_test_reduced = svd.transform(X_test_combined)\n",
        "best_model = RandomForestClassifier(n_estimators=50, random_state=42, n_jobs=-1)\n",
        "best_model.fit(X_train_reduced_full, y_train)\n",
        "y_test_pred = best_model.predict(X_test_reduced)\n",
        "\n",
        "\n",
        "submission = testingSet[['Id']].copy()\n",
        "submission['Score'] = y_test_pred\n",
        "\n",
        "submission.to_csv('submission.csv', index=False)\n",
        "\n",
        "print(\"\\nSubmission file created successfully!\")\n"
      ]
    },
    {
      "cell_type": "markdown",
      "metadata": {},
      "source": [
        "# Submission CSV file"
      ]
    },
    {
      "cell_type": "code",
      "execution_count": null,
      "metadata": {},
      "outputs": [],
      "source": [
        "submission.to_csv('submission.csv', index=False)\n",
        "\n",
        "print(\"\\nSubmission file created successfully!\")"
      ]
    }
  ],
  "metadata": {
    "colab": {
      "provenance": []
    },
    "kernelspec": {
      "display_name": "base",
      "language": "python",
      "name": "python3"
    },
    "language_info": {
      "codemirror_mode": {
        "name": "ipython",
        "version": 3
      },
      "file_extension": ".py",
      "mimetype": "text/x-python",
      "name": "python",
      "nbconvert_exporter": "python",
      "pygments_lexer": "ipython3",
      "version": "3.11.5"
    }
  },
  "nbformat": 4,
  "nbformat_minor": 0
}
